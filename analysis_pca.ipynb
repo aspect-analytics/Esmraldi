{
 "cells": [
  {
   "cell_type": "markdown",
   "metadata": {},
   "source": [
    "Define various useful functions and classes.\n",
    "\n",
    "ImageSliceViewer3D is for the interactive visualization of a 3D image. The slices can be selected through a slider.\n",
    "\n",
    "InteractiveStem adds a movable line in a stem plot. It also constructs an instance of ImageSliceViewer3D from a 3D image. A point in the stem plot correspond to a 2D-image. The position of the movable line in the stem plot determines the images which are displayed in the viewer. "
   ]
  },
  {
   "cell_type": "code",
   "execution_count": null,
   "metadata": {
    "autoscroll": false,
    "ein.hycell": false,
    "ein.tags": "worksheet-0",
    "slideshow": {
     "slide_type": "-"
    }
   },
   "outputs": [],
   "source": [
    "import numpy as np\n",
    "import matplotlib.pyplot as plt\n",
    "import nibabel as nib\n",
    "import SimpleITK as sitk\n",
    "import math\n",
    "import os\n",
    "import matplotlib.lines as lines\n",
    "import matplotlib.pyplot as plt\n",
    "import matplotlib.cm as cm\n",
    "import matplotlib.colors as colors\n",
    "from sklearn.preprocessing import StandardScaler\n",
    "from matplotlib.offsetbox import OffsetImage, AnnotationBbox\n",
    "import cv2\n",
    "import csv\n",
    "import pandas\n",
    "import ipywidgets as ipyw\n",
    "import itkwidgets \n",
    "import scipy.misc\n",
    "from IPython.display import clear_output\n",
    "\n",
    "import src.segmentation as seg\n",
    "import src.imzmlio as imzmlio\n",
    "import src.fusion as fusion\n",
    "import src.speciesrule as sr\n",
    "import src.spectrainterpretation as si\n",
    "\n",
    "from src.theoreticalspectrum import TheoreticalSpectrum\n",
    "\n",
    "%matplotlib notebook\n",
    "\n",
    "def transpose_eigenvectors(M, eigenvectors, eigenvalues):\n",
    "    p, n = M.shape\n",
    "    evT = [np.divide( (np.dot(M, eigenvectors[i])), (np.sqrt(2 * eigenvalues[i] * (n-1)/(p-1)))) for i in range(n)]\n",
    "    return np.asarray(evT)\n",
    "\n",
    "class ImageSliceViewer3D:\n",
    "    \"\"\" \n",
    "    ImageSliceViewer3D is for viewing volumetric image slices in jupyter or\n",
    "    ipython notebooks. \n",
    "    \n",
    "    User can interactively change the slice plane selection for the image and \n",
    "    the slice plane being viewed. \n",
    "\n",
    "    Argumentss:\n",
    "    Volume = 3D input image\n",
    "    figsize = default(8,8), to set the size of the figure\n",
    "    cmap = default('plasma'), string for the matplotlib colormap. You can find \n",
    "    more matplotlib colormaps on the following link:\n",
    "    https://matplotlib.org/users/colormaps.html\n",
    "    \n",
    "    \"\"\"\n",
    "    \n",
    "    def __init__(self, volume, mzs, ax=None, figsize=(8,8), cmap='gray'):\n",
    "        self.volume = volume\n",
    "        self.mzs = mzs\n",
    "        self.figsize = figsize\n",
    "        self.cmap = cmap\n",
    "        self.ax = ax\n",
    "        self.v = [np.min(volume), np.max(volume)]\n",
    "        self.slider = ipyw.IntSlider(min=0, max=self.volume.shape[-1] - 1, step=1, continuous_update=False, \n",
    "            description='Image Slice:')\n",
    "        \n",
    "    def show(self):\n",
    "        # Call to select slice plane\n",
    "        ipyw.interact(self.view_selection, view=ipyw.RadioButtons(\n",
    "            options=['x-y','y-z', 'z-x'], value='x-y', \n",
    "            description='Slice plane selection:', disabled=False,\n",
    "            style={'description_width': 'initial'}))\n",
    "    \n",
    "    def view_selection(self, view):\n",
    "        # Transpose the volume to orient according to the slice plane selection\n",
    "        orient = {\"y-z\":[1,2,0], \"z-x\":[2,0,1], \"x-y\": [0,1,2]}\n",
    "        self.vol = np.transpose(self.volume, orient[view])\n",
    "        maxZ = self.vol.shape[2] - 1\n",
    "        self.slider = ipyw.IntSlider(min=0, max=self.vol.shape[-1] - 1, step=1, continuous_update=False, \n",
    "            description='Image Slice:')\n",
    "        # Call to view a slice within the selected slice plane\n",
    "        ipyw.interact(self.plot_slice, z=self.slider)\n",
    "        \n",
    "    def update(self, image, mzs):\n",
    "        self.volume = image\n",
    "        self.vol = image\n",
    "        self.mzs = mzs\n",
    "        self.slider.max=self.volume.shape[-1] - 1\n",
    "    \n",
    "    def plot_slice(self, z):\n",
    "        # Plot slice for the given plane and slice\n",
    "        label = \"value: \"+ str(self.mzs[z])\n",
    "        #print(label)\n",
    "        if self.ax is None:\n",
    "            self.fig = plt.figure(figsize=self.figsize)\n",
    "            plt.title(label)\n",
    "            plt.axis('off')\n",
    "            plt.imshow(self.vol[:,:,z], cmap=plt.get_cmap(self.cmap))\n",
    "        else:\n",
    "            self.ax.set_title(label)\n",
    "            self.ax.axis('off')\n",
    "            self.ax.imshow(self.vol[:,:, z], cmap=plt.get_cmap(self.cmap))\n",
    "            \n",
    "            \n",
    "class InteractiveStem():\n",
    "    def __init__(self, ax, image, labels=None):\n",
    "        self.ax = ax\n",
    "        self.ax_stem = ax[1]\n",
    "        self.ax_viewer = ax[2]\n",
    "        self.c = self.ax_stem.get_figure().canvas\n",
    "        self.image = image\n",
    "\n",
    "        line = self.ax_stem.lines[0]\n",
    "        if labels is None:\n",
    "            self.mzs = line.get_xdata()\n",
    "        else:\n",
    "            self.mzs = labels\n",
    "        self.eigenvector = line.get_ydata()\n",
    "                \n",
    "        self.position = 0.1\n",
    "        left, right = self.ax_stem.get_xlim()\n",
    "        self.line = lines.Line2D([left, right], [self.position, self.position], picker=5, color=\"g\")\n",
    "        self.ax_stem.add_line(self.line)\n",
    "        \n",
    "        self.text = self.ax_stem.text(0,0, \"\", va=\"bottom\", ha=\"left\")\n",
    "        \n",
    "        self.viewer_restricted = ImageSliceViewer3D(image, [i for i in range(image.shape[-1])], ax=self.ax_viewer)\n",
    "        self.viewer_restricted.show()\n",
    "        \n",
    "        self.c.draw_idle()\n",
    "        self.sid = self.c.mpl_connect('pick_event', self.clickonline)\n",
    "\n",
    "    def clickonline(self, event):\n",
    "        self.text.set_text(event.artist)\n",
    "        if event.artist == self.line:\n",
    "            self.follower = self.c.mpl_connect(\"motion_notify_event\", self.followmouse)\n",
    "            self.releaser = self.c.mpl_connect('button_press_event', self.releaseonclick)\n",
    "\n",
    "    def followmouse(self, event):\n",
    "        self.line.set_ydata([event.ydata, event.ydata])\n",
    "        self.c.draw_idle()\n",
    "    \n",
    "    def releaseonclick(self, event):\n",
    "        self.position = event.ydata\n",
    "        self.text.set_text(\"\")\n",
    "        indices = np.arange(0, len(self.mzs))\n",
    "        cond = self.eigenvector > self.position if self.position > 0 else self.eigenvector < self.position\n",
    "        indices_above_line = indices[cond]\n",
    "        images_selected = self.image[..., indices_above_line]\n",
    "        mzs_selected = self.mzs[indices_above_line]\n",
    "        #self.text.set_text(str(self.image.shape) + \" \" + str(images_selected.shape) + \" \" + str(mzs_selected.shape))\n",
    "        self.viewer_restricted.update(images_selected, mzs_selected)\n",
    "        self.c.mpl_disconnect(self.releaser)\n",
    "        self.c.mpl_disconnect(self.follower)"
   ]
  },
  {
   "cell_type": "markdown",
   "metadata": {},
   "source": [
    "Read the MALDI image (.nii) and the m/z information (.csv)"
   ]
  },
  {
   "cell_type": "code",
   "execution_count": null,
   "metadata": {
    "autoscroll": false,
    "ein.hycell": false,
    "ein.tags": "worksheet-0",
    "slideshow": {
     "slide_type": "-"
    }
   },
   "outputs": [],
   "source": [
    "inputname = \"data/peaksel_prominence75.nii\"\n",
    "mzsname = \"data/peaksel_prominence75.csv\"\n",
    "theoreticalname=\"data/species_rule.json\"\n",
    "is_ratio = False\n",
    "threshold = 0\n",
    "normname = None\n",
    "\n",
    "## Theoretical spectrum\n",
    "species = sr.json_to_species(theoreticalname)\n",
    "ions = [mol for mol in species if mol.category==\"Ion\"]\n",
    "adducts = [mol for mol in species if mol.category==\"Adduct\"]\n",
    "theoretical_spectrum = TheoreticalSpectrum(ions, adducts)\n",
    "\n",
    "## Observed spectrum\n",
    "if inputname.lower().endswith(\".imzml\"):\n",
    "    imzml = imzmlio.open_imzml(inputname)\n",
    "    image = imzmlio.to_image_array(imzml)\n",
    "    mzs, intensities = imzml.getspectrum(0)\n",
    "else:\n",
    "    image = sitk.GetArrayFromImage(sitk.ReadImage(inputname)).T\n",
    "    if mzsname:\n",
    "        with open(mzsname) as csv_file:\n",
    "            csv_reader = csv.reader(csv_file, delimiter=\";\")\n",
    "            mzs = [float(row[0]) for row in csv_reader]\n",
    "    else:\n",
    "        mzs = [i for i in range(image.shape[2])]\n",
    "    mzs = np.asarray(mzs)\n",
    "\n",
    "image = image[..., mzs >= threshold]\n",
    "mzs = mzs[mzs >= threshold]\n",
    "mzs = np.around(mzs, decimals=2)\n",
    "\n",
    "\n",
    "\n",
    "if normname is not None:\n",
    "    print(\"Norm image detected\")\n",
    "    norm_img = sitk.ReadImage(normname)\n",
    "    norm_img = sitk.GetArrayFromImage(norm_img).T\n",
    "    norm_img_3D = norm_img[..., None]\n",
    "    before = image.max()\n",
    "    image = np.divide(image, norm_img_3D, out=np.zeros_like(image, dtype=np.float), where=norm_img_3D!=0)\n",
    "    after = image.max()\n",
    "    print(\"Before max=\", before, \", after=\", after)\n",
    "\n",
    "\n",
    "if is_ratio:\n",
    "    ratio_images, ratio_mzs = fusion.extract_ratio_images(image, mzs)\n",
    "    image = np.concatenate((image, ratio_images), axis=2)\n",
    "    mzs = np.concatenate((mzs, ratio_mzs))\n",
    "    \n",
    "annotation = si.annotation(mzs, theoretical_spectrum.spectrum, 1)\n",
    "labels = np.array([str(val) + \"(\" + str(key) +\")\" for key, val in annotation.items()])"
   ]
  },
  {
   "cell_type": "markdown",
   "metadata": {},
   "source": [
    "Normalize the images such that their intensity is scaled between 0 and 255, according to the minimum and maximum value of each image.\n",
    "Visualize the results with an image slider."
   ]
  },
  {
   "cell_type": "code",
   "execution_count": null,
   "metadata": {
    "autoscroll": false,
    "ein.hycell": false,
    "ein.tags": "worksheet-0",
    "slideshow": {
     "slide_type": "-"
    }
   },
   "outputs": [],
   "source": [
    "image = imzmlio.normalize(image)\n",
    "image_shape = (image.shape[0], image.shape[1])\n",
    "image_norm = seg.preprocess_pca(image)\n",
    "M = image_norm.T\n",
    "spectra_image = pandas.DataFrame(data=M, columns=mzs)\n",
    "\n",
    "\n",
    "viewerSlice = ImageSliceViewer3D(image, mzs, figsize=(4,4))\n",
    "viewerSlice.show()"
   ]
  },
  {
   "cell_type": "markdown",
   "metadata": {},
   "source": [
    "Compute the PCA on both the original and transposed matrix."
   ]
  },
  {
   "cell_type": "code",
   "execution_count": null,
   "metadata": {
    "autoscroll": false,
    "ein.hycell": false,
    "ein.tags": "worksheet-0",
    "slideshow": {
     "slide_type": "-"
    }
   },
   "outputs": [],
   "source": [
    "print(\"Computing PCA\")\n",
    "p, n = M.shape\n",
    "fit_pca = fusion.pca(M, n)\n",
    "eigenvectors = fit_pca.components_\n",
    "eigenvalues = fit_pca.singular_values_\n",
    "eigenvectors_transposed = transpose_eigenvectors(M, eigenvectors, eigenvalues)\n",
    "print(\"Done\")"
   ]
  },
  {
   "cell_type": "markdown",
   "metadata": {},
   "source": [
    "Else use other dimension reduction techniques, such as NMF :"
   ]
  },
  {
   "cell_type": "code",
   "execution_count": null,
   "metadata": {},
   "outputs": [],
   "source": [
    "from sklearn.decomposition import NMF\n",
    "print(\"Computing NMF\")\n",
    "p, n = M.shape\n",
    "nb_comp = 6\n",
    "nmf = NMF(n_components=nb_comp, init='nndsvda', solver='cd', random_state=0)\n",
    "fit_nmf = nmf.fit(M)\n",
    "eigenvectors = fit_nmf.components_ #H\n",
    "eigenvalues = nmf.fit_transform(M); #W\n",
    "eigenvectors_transposed = eigenvalues.T\n",
    "print(\"Done\")"
   ]
  },
  {
   "cell_type": "code",
   "execution_count": null,
   "metadata": {},
   "outputs": [],
   "source": [
    "print(eigenvectors.shape)\n",
    "print(eigenvectors)\n",
    "print(eigenvalues.shape)"
   ]
  },
  {
   "cell_type": "markdown",
   "metadata": {},
   "source": [
    "After the PCA is computed, explore the loadings of the transposed matrix (image for each axis, on the left) and the loadings of the original matrix on the same axis (stem plot, in the middle). Move the first slider to select an axis in the PCA. \n",
    "\n",
    "Move the green horizontal line ($y = a$) in the stem plot to visualize the images (on the right) :\n",
    "  1. whose score is above $a$ for the selected axis, if $a > 0$.\n",
    "  2. whose score is below $a$ for the selected axis, if $a \\leq 0$\n",
    "  \n",
    "Move the second slider to visualize all of these images."
   ]
  },
  {
   "cell_type": "code",
   "execution_count": null,
   "metadata": {
    "autoscroll": false,
    "ein.hycell": false,
    "ein.tags": "worksheet-0",
    "scrolled": false,
    "slideshow": {
     "slide_type": "-"
    }
   },
   "outputs": [],
   "source": [
    "def plot_slice(viewer, z, ax):\n",
    "    # Plot slice for the given plane and slice\n",
    "    ImageSliceViewer3D.plot_slice(viewer, z)\n",
    "    ax[1].clear()\n",
    "    ax[2].clear()\n",
    "    ax[1].stem(mzs, eigenvectors[z], use_line_collection=True)\n",
    "    viewer.hline = InteractiveStem(ax, image, labels)\n",
    "\n",
    "plt.close()\n",
    "\n",
    "\n",
    "image_eigenvectors = eigenvectors_transposed.T\n",
    "new_shape = image_shape + (image_eigenvectors.shape[-1],)\n",
    "print(new_shape)\n",
    "image_eigenvectors = image_eigenvectors.reshape(new_shape)\n",
    "fig, ax = plt.subplots(1, 3, figsize=(10,4))\n",
    "viewer = ImageSliceViewer3D(image_eigenvectors, mzs=[i for i in range(new_shape[-1])], ax=ax[0])\n",
    "viewer.plot_slice = lambda z: plot_slice(viewer,z, ax)\n",
    "viewer.show()\n",
    "print(theoretical_spectrum.spectrum)"
   ]
  }
 ],
 "metadata": {
  "kernelspec": {
   "display_name": "Python 3",
   "language": "python",
   "name": "python3"
  },
  "language_info": {
   "codemirror_mode": {
    "name": "ipython",
    "version": 3
   },
   "file_extension": ".py",
   "mimetype": "text/x-python",
   "name": "python",
   "nbconvert_exporter": "python",
   "pygments_lexer": "ipython3",
   "version": "3.6.8"
  },
  "name": "analysis_pca.ipynb"
 },
 "nbformat": 4,
 "nbformat_minor": 2
}
