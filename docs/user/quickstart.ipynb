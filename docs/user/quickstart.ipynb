{
 "cells": [
  {
   "cell_type": "markdown",
   "metadata": {
    "collapsed": false
   },
   "source": [
    "# Quickstart tutorial\n",
    "\n",
    "Welcome to the quickstart tutorial to Esmraldi! If you have comments or suggestions, please don’t hesitate to reach out. \n",
    "This tutorial contains the key steps of the imaging processing workflow leading to the joint analysis of a MALDI image with another image. It uses a basic MALDI dataset along with a synthetic image. \n",
    "\n",
    "## Input, Visualization\n",
    "\n",
    "The data is available in the `data` directory. \n",
    "First, read the data and display the spectrum of the first pixel:"
   ]
  },
  {
   "cell_type": "code",
   "execution_count": null,
   "metadata": {
    "collapsed": false
   },
   "outputs": [],
   "source": [
    "%load_ext autoreload\n",
    "%autoreload 2\n",
    "\n",
    "import sys, os\n",
    "rootpath = \"../../\"\n",
    "sys.path.append(os.path.join(os.path.dirname(os.path.abspath(\"__file__\")), rootpath))\n",
    "\n",
    "import esmraldi.imzmlio as io\n",
    "import matplotlib.pyplot as plt\n",
    "\n",
    "imzml = io.open_imzml(rootpath + \"data/Example_Continuous.imzML\")\n",
    "spectra = io.get_spectra(imzml)\n",
    "\n",
    "print(spectra.shape)\n",
    "mz_first, intensities_first = spectra[0, 0], spectra[0, 1]\n",
    "plt.plot(mz_first, intensities_first)"
   ]
  },
  {
   "cell_type": "markdown",
   "metadata": {
    "collapsed": false
   },
   "source": [
    "The variable `spectra` is a 3D numpy array, where the first dimension corresponds to pixels, the second dimension to *m/z* or intensities, and the last dimension to their associated values. Here, this array contains 9 pixels, and each spectrum has 8399 points.\n",
    "\n",
    "Then, we display the image of the ion of *m/z* 328.9 +/- 0.25:"
   ]
  },
  {
   "cell_type": "code",
   "execution_count": null,
   "metadata": {
    "collapsed": false
   },
   "outputs": [],
   "source": [
    "image = io.get_image(imzml, 328.9, 0.25)\n",
    "plt.imshow(image)"
   ]
  },
  {
   "cell_type": "markdown",
   "metadata": {
    "collapsed": false
   },
   "source": [
    "The image is a 3x3 array of various intensities.\n",
    "\n",
    "## Spectra processing\n",
    "\n",
    "### Peak detection\n",
    "\n",
    "The next step is to detect peaks across all spectra. Our approach is based on [topographical prominence](https://en.wikipedia.org/wiki/Topographic_prominence) values. More specifically, we define the **local** prominence as the ratio between the prominence and the estimated local noise in the signal. The local noise $\\sigma$ is estimated as the median absolute deviations in a window of length $w$. Let $f$ be the local prominence factor, the local maxima whose intensity is above $f * \\sigma$ are considered as peaks."
   ]
  },
  {
   "cell_type": "code",
   "execution_count": null,
   "metadata": {
    "collapsed": false
   },
   "outputs": [],
   "source": [
    "import esmraldi.spectraprocessing as sp\n",
    "import numpy as np\n",
    "\n",
    "prominence_local_factor = 4\n",
    "window_length = 1000\n",
    "\n",
    "detected_mzs = sp.spectra_peak_mzs_adaptative(spectra, factor=prominence_local_factor, wlen=window_length)\n",
    "detected_mz_first = detected_mzs[0]\n",
    "indices = np.in1d(mz_first, detected_mz_first)\n",
    "detected_intensities_first = intensities_first[indices]\n",
    "\n",
    "plt.plot(mz_first, intensities_first, detected_mz_first, detected_intensities_first, \"o\")"
   ]
  },
  {
   "cell_type": "markdown",
   "metadata": {
    "collapsed": false
   },
   "source": [
    "The original spectrum is displayed in blue, and the detected peaks are highlighted by orange dots.\n",
    "\n",
    "\n",
    "### Spectra alignment\n",
    "Next, the spectra need to be realigned to compensate for *m/z* differences between pixels, due to instrumentation differences, or sample inhomogeneity.\n",
    "\n",
    "Groups of close *m/z* values are made with a tolerance given by the *step* parameter. The median *m/z* value in each group is taken as reference for the alignment procedure."
   ]
  },
  {
   "cell_type": "code",
   "execution_count": null,
   "metadata": {
    "collapsed": false
   },
   "outputs": [],
   "source": [
    "realigned_spectra = sp.realign_mzs(spectra, detected_mzs, reference=\"median\", nb_occurrence=1, step=0.05)\n",
    "print(realigned_spectra.shape)"
   ]
  },
  {
   "cell_type": "markdown",
   "metadata": {
    "collapsed": false
   },
   "source": [
    "After the realignment, 121 peaks are detected (vs. the initial 8399 peaks).\n",
    "\n",
    "## Segmentation\n",
    "\n",
    "Next, a representative image is extracted from the set of MALDI ion images. This is achieved by regio growing on a subset of relevant images, that is to say non-noisy images.\n",
    "\n",
    "Relevant images are found by a measure called *spatial coherence* which considers the minimum area of the largest connected component in ion binary images obtained from a set of quantile thresholds."
   ]
  },
  {
   "cell_type": "code",
   "execution_count": null,
   "metadata": {
    "collapsed": false
   },
   "outputs": [],
   "source": [
    "import esmraldi.segmentation as seg\n",
    "\n",
    "maldi_image = io.get_images_from_spectra(realigned_spectra, (3,3))\n",
    "maldi_image = io.normalize(maldi_image)\n",
    "# Relevant images\n",
    "spatially_coherent = seg.find_similar_images_area(maldi_image, 0, quantiles=[60, 70, 80, 90])\n",
    "\n",
    "# Mean image\n",
    "mean_image = np.average(spatially_coherent, axis=-1)\n",
    "\n",
    "# Region growing\n",
    "seeds = set(((1, 1), (0, 0)))\n",
    "list_end, _ = seg.region_growing(spatially_coherent, seedList=seeds, lower_threshold=50)\n",
    "x = [elem[0] for elem in list_end]\n",
    "y = [elem[1] for elem in list_end]\n",
    "mask = np.ones_like(mean_image)\n",
    "mask[x, y] = 0\n",
    "masked_mean_image = np.ma.array(mean_image, mask=mask)\n",
    "masked_mean_image = masked_mean_image.filled(0)\n",
    "\n",
    "plt.imshow(masked_mean_image)"
   ]
  },
  {
   "cell_type": "markdown",
   "metadata": {
    "collapsed": false
   },
   "source": [
    "## Registration\n",
    "\n"
   ]
  }
 ],
 "metadata": {
  "kernelspec": {
   "argv": [
    "python",
    "-m",
    "ipykernel_launcher",
    "-f",
    "{connection_file}"
   ],
   "display_name": "Python 3",
   "env": null,
   "interrupt_mode": "signal",
   "language": "python",
   "metadata": null,
   "name": "python3"
  },
  "language_info": {
   "codemirror_mode": {
    "name": "ipython",
    "version": 3
   },
   "file_extension": ".py",
   "mimetype": "text/x-python",
   "name": "python",
   "nbconvert_exporter": "python",
   "pygments_lexer": "ipython3",
   "version": "3.6.9"
  },
  "name": "quickstart2.ipynb"
 },
 "nbformat": 4,
 "nbformat_minor": 2
}
